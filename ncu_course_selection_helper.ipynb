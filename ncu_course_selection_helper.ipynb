{
  "cells": [
    {
      "cell_type": "markdown",
      "metadata": {
        "id": "27G_0ze_FbXh"
      },
      "source": [
        "# NCU輔助選課程式，提供選課時的分發機率參考\n",
        "\n",
        "## 使用方法\n",
        "1. 拷貝這份程式到電腦或雲端硬碟(推薦)，以保存選課資料\n",
        "2. 查找課堂的流水號在**選課系統**->**課程加退選**->**選課**->**志願序與選修別**，可搭配ncu course finder使用\n",
        "3. 在下方`course_numbers`中輸入你想要的課程流水號，就可查詢該課程的分發機率(第1志願有多少機率會上、第2志願有多少機率會上...)。\n",
        "4. 執行全部程式\n",
        "5. 根據各個課堂上的機率，排課程的志願序 EX：已知A堂課只有在第1志願才會上，就不用把第2志願的名額給A堂課，可以給有可能在第2志願上的B堂課\n",
        "\n",
        "## 分發順序\n",
        "興趣選項課程分發規則如下：\n",
        "1. 課程修課對象優先順序條件限制\n",
        "2. 學生登錄之同一課群志願序(此程式算的是這個機率)\n",
        "3. 系統自動產生之亂數籤號\n",
        "\n",
        "## 範例結果\n",
        "- **課程名稱**: 日文（一）A LN0025 - A\n",
        "- **人數限制**: 50\n",
        "- **中選人數**: 0\n",
        "- **第1志願上的機率**: 16.61%\n",
        "- **已分發完畢**\n",
        "\n",
        "## 注意事項\n",
        "1. 此程式只適用興趣選項課程(通識、體育、語言類課程等等)，且此程式預設每個人的優先順序都是相同，請先查看你的優先順序是否為第一\n",
        "2. 執行太多次程式或輸入的課堂號過多可能會鎖IP位置，推薦在colab上執行且課堂號不要一次輸入過多\n",
        "\n",
        "## 製作人員\n",
        "資工二A 陳聖勳\n",
        "\n",
        "## 其他問題\n",
        "請聯繫 email:tom1030507@gmail.com"
      ]
    },
    {
      "cell_type": "code",
      "execution_count": null,
      "metadata": {
        "colab": {
          "base_uri": "https://localhost:8080/"
        },
        "id": "7nDrQt3YzMkY",
        "outputId": "296fd9ba-69ee-4dd9-df92-f3f3a39ab057"
      },
      "outputs": [
        {
          "name": "stdout",
          "output_type": "stream",
          "text": [
            "Requirement already satisfied: requests in /usr/local/lib/python3.10/dist-packages (2.32.3)\n",
            "Requirement already satisfied: charset-normalizer<4,>=2 in /usr/local/lib/python3.10/dist-packages (from requests) (3.4.0)\n",
            "Requirement already satisfied: idna<4,>=2.5 in /usr/local/lib/python3.10/dist-packages (from requests) (3.10)\n",
            "Requirement already satisfied: urllib3<3,>=1.21.1 in /usr/local/lib/python3.10/dist-packages (from requests) (2.2.3)\n",
            "Requirement already satisfied: certifi>=2017.4.17 in /usr/local/lib/python3.10/dist-packages (from requests) (2024.12.14)\n",
            "Requirement already satisfied: beautifulsoup4 in /usr/local/lib/python3.10/dist-packages (4.12.3)\n",
            "Requirement already satisfied: soupsieve>1.2 in /usr/local/lib/python3.10/dist-packages (from beautifulsoup4) (2.6)\n"
          ]
        }
      ],
      "source": [
        "!pip install requests\n",
        "!pip install beautifulsoup4"
      ]
    },
    {
      "cell_type": "code",
      "execution_count": null,
      "metadata": {
        "colab": {
          "base_uri": "https://localhost:8080/"
        },
        "id": "5pIGATjjzH4A",
        "outputId": "caa4ba66-c4b7-4c4a-e10b-a8b8db740660"
      },
      "outputs": [
        {
          "name": "stdout",
          "output_type": "stream",
          "text": [
            "<體育課程>\n",
            "\n",
            "課程名稱: 羽球入門 PE2101 - A\n",
            "人數限制: 40\n",
            "中選人數: 0\n",
            "第1志願上的機率: 12.62%\n",
            "已分發完畢\n",
            "\n",
            "課程名稱: 羽球入門 PE2101 - C\n",
            "人數限制: 40\n",
            "中選人數: 0\n",
            "第1志願上的機率: 14.76%\n",
            "已分發完畢\n",
            "\n",
            "<日文課程>\n",
            "\n",
            "課程名稱: 日文(一)A LN0025 - A\n",
            "人數限制: 50\n",
            "中選人數: 0\n",
            "第1志願上的機率: 15.11%\n",
            "已分發完畢\n",
            "\n",
            "課程名稱: 日文(一)A LN0025 - B\n",
            "人數限制: 50\n",
            "中選人數: 0\n",
            "第1志願上的機率: 10.16%\n",
            "已分發完畢\n",
            "\n",
            "<通識課程>\n",
            "\n",
            "課程名稱: 西方古典音樂欣賞 GS2153 - *\n",
            "人數限制: 120\n",
            "中選人數: 0\n",
            "第1志願上的機率: 34.58%\n",
            "已分發完畢\n",
            "\n",
            "課程名稱: 行政法 GS3077 - *\n",
            "人數限制: 130\n",
            "中選人數: 0\n",
            "第1志願上的機率: 100.00%\n",
            "第2志願上的機率: 66.67%\n",
            "已分發完畢\n",
            "\n"
          ]
        }
      ],
      "source": [
        "import re\n",
        "import requests\n",
        "from bs4 import BeautifulSoup\n",
        "\n",
        "def get_course_detail(course_serial_number):\n",
        "    # 定義目標URL\n",
        "    url = 'https://cis.ncu.edu.tw/Course/main/support/courseDetail.html?crs=' + course_serial_number\n",
        "\n",
        "    # 發送HTTP請求\n",
        "    response = requests.get(url)\n",
        "    soup = BeautifulSoup(response.text, 'html.parser')\n",
        "\n",
        "    def get_value_by_label(label):\n",
        "        td = soup.find('td', class_='subTitle', string=label)\n",
        "        if td:\n",
        "            next_td = td.find_next_sibling('td')\n",
        "            if next_td:\n",
        "                # 排除不需要的部分\n",
        "                for span in next_td.find_all('span', class_='engclass'):\n",
        "                    span.decompose()\n",
        "                return next_td.get_text(strip=True)\n",
        "        return None\n",
        "\n",
        "    course_name = get_value_by_label('課程名稱/備註')\n",
        "    course_code = get_value_by_label('流水號  / 課號')\n",
        "\n",
        "    # 提取課號\n",
        "    match = re.search(r'[A-Za-z0-9]+ - [A-Za-z*]', course_code)\n",
        "    if match:\n",
        "        course_code = match.group()\n",
        "    else:\n",
        "        print('未知課號\\n')\n",
        "        return\n",
        "\n",
        "    enrollment_limit = get_value_by_label('人數限制')\n",
        "    selected_count = get_value_by_label('中選人數')\n",
        "\n",
        "    print(f'課程名稱: {course_name} {course_code}')\n",
        "    print(f'人數限制: {enrollment_limit}')\n",
        "    print(f'中選人數: {selected_count}')\n",
        "\n",
        "    remaining_slots = int(enrollment_limit) - int(selected_count)\n",
        "\n",
        "    # 查找特定內容出現的次數\n",
        "    td_elements = soup.find_all('td')\n",
        "    for priority in range(1, 10):\n",
        "        count = 0\n",
        "        for index in range(len(td_elements) - 1):\n",
        "            if td_elements[index].get_text(strip=True) == str(priority) and td_elements[index + 1].get_text(strip=True) == '待分發':\n",
        "                count += 1\n",
        "        if count == 0:\n",
        "            print(f'第{priority}志願上的機率: 100.00%')\n",
        "            continue\n",
        "        probability = remaining_slots / count * 100\n",
        "        if probability > 100:\n",
        "            probability = 100\n",
        "        print(f'第{priority}志願上的機率: {probability:.2f}%')\n",
        "        remaining_slots -= count\n",
        "        if remaining_slots <= 0:\n",
        "            print(\"已分發完畢\")\n",
        "            break\n",
        "    print()\n",
        "\n",
        "# 輸入你想要的課程流水號(4或5位號碼)\n",
        "pe_course_numbers = [\"1041\", \"1043\"]\n",
        "japanese_course_numbers = [\"0001\", \"0002\"]\n",
        "general_course_numbers = [\"9007\", \"9018\"]\n",
        "\n",
        "print(\"<體育課程>\\n\")\n",
        "for serial_number in pe_course_numbers:\n",
        "    get_course_detail(serial_number)\n",
        "\n",
        "print(\"<日文課程>\\n\")\n",
        "for serial_number in japanese_course_numbers:\n",
        "    get_course_detail(serial_number)\n",
        "\n",
        "print(\"<通識課程>\\n\")\n",
        "for serial_number in general_course_numbers:\n",
        "    get_course_detail(serial_number)"
      ]
    }
  ],
  "metadata": {
    "colab": {
      "provenance": []
    },
    "kernelspec": {
      "display_name": "Python 3",
      "name": "python3"
    },
    "language_info": {
      "name": "python"
    }
  },
  "nbformat": 4,
  "nbformat_minor": 0
}
